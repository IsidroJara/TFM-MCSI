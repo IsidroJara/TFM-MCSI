{
 "cells": [
  {
   "cell_type": "code",
   "execution_count": null,
   "metadata": {},
   "outputs": [],
   "source": [
    "from crontab import CronTab\n",
    " \n",
    "my_cron = CronTab(user='isidro')\n",
    "job = my_cron.new(command='jupyter notebook nbconvert --execute Untitled.ipynb')\n",
    "job.minute.every(1)\n",
    " \n",
    "my_cron.write()"
   ]
  }
 ],
 "metadata": {
  "kernelspec": {
   "display_name": "Python 3",
   "language": "python",
   "name": "python3"
  },
  "language_info": {
   "codemirror_mode": {
    "name": "ipython",
    "version": 3
   },
   "file_extension": ".py",
   "mimetype": "text/x-python",
   "name": "python",
   "nbconvert_exporter": "python",
   "pygments_lexer": "ipython3",
   "version": "3.7.3"
  }
 },
 "nbformat": 4,
 "nbformat_minor": 2
}
