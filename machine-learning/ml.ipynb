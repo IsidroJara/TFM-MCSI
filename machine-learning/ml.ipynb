{
 "cells": [
  {
   "cell_type": "markdown",
   "metadata": {},
   "source": [
    "## 0. Enunciado"
   ]
  },
  {
   "cell_type": "markdown",
   "metadata": {},
   "source": [
    "En este ejercicio se propone un conjunto de datos recopilado a partir de un escenario en el que se han realizado un conjunto de ataques sobre una infraestructura de red.  \n",
    "\n",
    "El objetivo del ejercicio es construir un modelo capaz de identificar este tipo de ataques en una infraestructura de red real. Para completar el ejercicio satisfactoriamente el alumno debe:\n",
    "* Construir un modelo predictivo utilizando un **algoritmo de clasficación** basado en apredizaje supervisado (regresión logistica, árbol de decisión, random forests)\n",
    "* Construir un modelo predictivo utilizando un **algoritmo de detección de anomalías** (distribución gaussiana, isolation forest)\n",
    "* **Completar las secciones** que se presentan a lo largo de este jupyter notebook"
   ]
  },
  {
   "cell_type": "markdown",
   "metadata": {},
   "source": [
    "### Dataset"
   ]
  },
  {
   "cell_type": "markdown",
   "metadata": {},
   "source": [
    "#### Abstract\n",
    "NSL-KDD is a data set suggested to solve some of the inherent problems of the KDD'99 data set which are mentioned in [1]. Although, this new version of the KDD data set still suffers from some of the problems discussed by McHugh [2] and may not be a perfect representative of existing real networks, because of the lack of public data sets for network-based IDSs, we believe it still can be applied as an effective benchmark data set to help researchers compare different intrusion detection methods. Furthermore, the number of records in the NSL-KDD train and test sets are reasonable. This advantage makes it affordable to run the experiments on the complete set without the need to randomly select a small portion. Consequently, evaluation results of different research work will be consistent and comparable.\n",
    "\n",
    "#### Data Files\n",
    "* KDDTrain+.ARFF: The full NSL-KDD train set with binary labels in ARFF format\n",
    "* **KDDTrain+.TXT**: The full NSL-KDD train set including attack-type labels and difficulty level in CSV format\n",
    "* KDDTrain+_20Percent.ARFF:\tA 20% subset of the KDDTrain+.arff file\n",
    "* KDDTrain+_20Percent.TXT:\tA 20% subset of the KDDTrain+.txt file\n",
    "* KDDTest+.ARFF:\tThe full NSL-KDD test set with binary labels in ARFF format\n",
    "* **KDDTest+.TXT**:\tThe full NSL-KDD test set including attack-type labels and difficulty level in CSV format\n",
    "* KDDTest-21.ARFF:\tA subset of the KDDTest+.arff file which does not include records with difficulty level of 21 out of 21\n",
    "* KDDTest-21.TXT:\tA subset of the KDDTest+.txt file which does not include records with difficulty level of 21 out of 21"
   ]
  },
  {
   "cell_type": "markdown",
   "metadata": {},
   "source": [
    "## 1. Lectura del conjunto de datos"
   ]
  },
  {
   "cell_type": "markdown",
   "metadata": {},
   "source": [
    "Carga el conjunto de datos utilizando alguno de los frameworks que se ha visto durante la realización de los ejercicios del curso:\n",
    "* Almacena los datos en las variables adecuadas\n",
    "* Separa el conjunto de datos en las características de entrada y el valor de salida (etiqueta)\n",
    "* **Separa el conjunto de datos en los subconjuntos de entramiento, validación y pruebas**"
   ]
  },
  {
   "cell_type": "markdown",
   "metadata": {},
   "source": [
    "**NOTA**: URL del dataset de entrenamiento: http://www.almhuette-raith.at/apache-log/access.log"
   ]
  },
  {
   "cell_type": "markdown",
   "metadata": {},
   "source": [
    "Vamos a definir un par de funciones para ayudar a la carga de los datos:\n",
    "\n",
    "**parse_str**: \n",
    "\n",
    "**parse_datetime**:\n",
    "\n",
    "**NOTA**: El código de estas funciones se encuentra en https://mmas.github.io/read-apache-access-log-pandas"
   ]
  },
  {
   "cell_type": "code",
   "execution_count": 37,
   "metadata": {},
   "outputs": [],
   "source": [
    "from datetime import datetime\n",
    "import pytz\n",
    "\n",
    "# Returns the string delimited by two characters.\n",
    "# Example: parse_str('[my string]') => 'my string'\n",
    "def parse_str(x):\n",
    "    return x[1:-1]\n",
    "\n",
    "# Parses datetime with timezone formatted as: [day/month/year:hour:minute:second zone]\n",
    "# Example: parse_datetime('13/Nov/2015:11:45:42 +0000') \n",
    "#    => datetime.datetime(2015, 11, 3, 11, 45, 4, tzinfo=<UTC>)\n",
    "\n",
    "def parse_datetime(x):\n",
    "    try: \n",
    "        dt = datetime.strptime(x[1:-7], '%d/%b/%Y:%H:%M:%S')\n",
    "        dt_tz = int(x[-6:-3])*60+int(x[-3:-1])\n",
    "        return dt.replace(tzinfo=pytz.FixedOffset(dt_tz))\n",
    "    except:\n",
    "        return \"Error loading data\""
   ]
  },
  {
   "cell_type": "code",
   "execution_count": 38,
   "metadata": {},
   "outputs": [],
   "source": [
    "import re\n",
    "import pandas as pd\n",
    "\n",
    "X_test = pd.read_csv(\n",
    "    'datasets/access.log',\n",
    "    sep=r'\\s(?=(?:[^\"]*\"[^\"]*\")*[^\"]*$)(?![^\\[]*\\])',\n",
    "    engine='python',\n",
    "    nrows=1000000,   # numero de filas a cargar\n",
    "    na_values='-',\n",
    "    header=None,\n",
    "    usecols=[0, 3, 4, 5, 6, 7, 8],\n",
    "    names=['ip', 'time', 'request', 'status', 'size', 'referer', 'user_agent'],\n",
    "    converters={'time': parse_datetime,\n",
    "                'request': parse_str,\n",
    "                'status': int,\n",
    "                'size': int,\n",
    "                'referer': parse_str,\n",
    "                'user_agent': parse_str})\n"
   ]
  },
  {
   "cell_type": "code",
   "execution_count": 39,
   "metadata": {},
   "outputs": [],
   "source": [
    "# Validation data\n",
    "from sklearn.model_selection import train_test_split\n",
    "\n",
    "X_train, X_val = train_test_split(X_test, test_size=0.20, random_state=42)"
   ]
  },
  {
   "cell_type": "code",
   "execution_count": 40,
   "metadata": {},
   "outputs": [
    {
     "name": "stdout",
     "output_type": "stream",
     "text": [
      "Número de registros de test: 1000000\n",
      "Número de registros para entrenamiento: 800000\n",
      "Número de registros para la validación: 200000\n"
     ]
    }
   ],
   "source": [
    "# Comprobacion de número de datos en cada conjunto\n",
    "print(\"Número de registros de test:\", X_test.shape[0])\n",
    "print(\"Número de registros para entrenamiento:\", X_train.shape[0])\n",
    "print(\"Número de registros para la validación:\", X_val.shape[0])"
   ]
  },
  {
   "cell_type": "markdown",
   "metadata": {},
   "source": [
    "## 2. Visualización del conjunto de datos para ganar intuiciones"
   ]
  },
  {
   "cell_type": "markdown",
   "metadata": {},
   "source": [
    "El proceso de visualización siempre debe realizarse sobre el training set y apartando el test set. Esto evita que nuestro cerebro genere intuiciones del test set que podemos incorporar en nuestro modelo.  \n",
    "\n",
    "Una buena práctica es crear una copia del training set y jugar con ella. De esta manera, si realizamos transformaciones que dañan el tranning set, el original no se ve afectado.  \n",
    "\n",
    "Visualiza los valores de las características de entrada del conjunto de datos. \n",
    "* Visualiza las columnas y filas del conjunto de datos\n",
    "* Visualiza la información del conjunto de datos\n",
    "* Cuenta los valores distintos que existen para las columnas categoricas\n",
    "* Visualiza la distribución de los atributos del conjunto de datos de manera genérica\n",
    "* ..."
   ]
  },
  {
   "cell_type": "code",
   "execution_count": 41,
   "metadata": {},
   "outputs": [
    {
     "data": {
      "text/html": [
       "<div>\n",
       "<style scoped>\n",
       "    .dataframe tbody tr th:only-of-type {\n",
       "        vertical-align: middle;\n",
       "    }\n",
       "\n",
       "    .dataframe tbody tr th {\n",
       "        vertical-align: top;\n",
       "    }\n",
       "\n",
       "    .dataframe thead th {\n",
       "        text-align: right;\n",
       "    }\n",
       "</style>\n",
       "<table border=\"1\" class=\"dataframe\">\n",
       "  <thead>\n",
       "    <tr style=\"text-align: right;\">\n",
       "      <th></th>\n",
       "      <th>ip</th>\n",
       "      <th>time</th>\n",
       "      <th>request</th>\n",
       "      <th>status</th>\n",
       "      <th>size</th>\n",
       "      <th>referer</th>\n",
       "      <th>user_agent</th>\n",
       "    </tr>\n",
       "  </thead>\n",
       "  <tbody>\n",
       "    <tr>\n",
       "      <th>0</th>\n",
       "      <td>109.169.248.247</td>\n",
       "      <td>2015-12-12 18:25:11+01:00</td>\n",
       "      <td>GET /administrator/ HTTP/1.1</td>\n",
       "      <td>200</td>\n",
       "      <td>4263</td>\n",
       "      <td>NaN</td>\n",
       "      <td>Mozilla/5.0 (Windows NT 6.0; rv:34.0) Gecko/20...</td>\n",
       "    </tr>\n",
       "    <tr>\n",
       "      <th>1</th>\n",
       "      <td>109.169.248.247</td>\n",
       "      <td>2015-12-12 18:25:11+01:00</td>\n",
       "      <td>POST /administrator/index.php HTTP/1.1</td>\n",
       "      <td>200</td>\n",
       "      <td>4494</td>\n",
       "      <td>http://almhuette-raith.at/administrator/</td>\n",
       "      <td>Mozilla/5.0 (Windows NT 6.0; rv:34.0) Gecko/20...</td>\n",
       "    </tr>\n",
       "    <tr>\n",
       "      <th>2</th>\n",
       "      <td>46.72.177.4</td>\n",
       "      <td>2015-12-12 18:31:08+01:00</td>\n",
       "      <td>GET /administrator/ HTTP/1.1</td>\n",
       "      <td>200</td>\n",
       "      <td>4263</td>\n",
       "      <td>NaN</td>\n",
       "      <td>Mozilla/5.0 (Windows NT 6.0; rv:34.0) Gecko/20...</td>\n",
       "    </tr>\n",
       "    <tr>\n",
       "      <th>3</th>\n",
       "      <td>46.72.177.4</td>\n",
       "      <td>2015-12-12 18:31:08+01:00</td>\n",
       "      <td>POST /administrator/index.php HTTP/1.1</td>\n",
       "      <td>200</td>\n",
       "      <td>4494</td>\n",
       "      <td>http://almhuette-raith.at/administrator/</td>\n",
       "      <td>Mozilla/5.0 (Windows NT 6.0; rv:34.0) Gecko/20...</td>\n",
       "    </tr>\n",
       "    <tr>\n",
       "      <th>4</th>\n",
       "      <td>83.167.113.100</td>\n",
       "      <td>2015-12-12 18:31:25+01:00</td>\n",
       "      <td>GET /administrator/ HTTP/1.1</td>\n",
       "      <td>200</td>\n",
       "      <td>4263</td>\n",
       "      <td>NaN</td>\n",
       "      <td>Mozilla/5.0 (Windows NT 6.0; rv:34.0) Gecko/20...</td>\n",
       "    </tr>\n",
       "    <tr>\n",
       "      <th>5</th>\n",
       "      <td>83.167.113.100</td>\n",
       "      <td>2015-12-12 18:31:25+01:00</td>\n",
       "      <td>POST /administrator/index.php HTTP/1.1</td>\n",
       "      <td>200</td>\n",
       "      <td>4494</td>\n",
       "      <td>http://almhuette-raith.at/administrator/</td>\n",
       "      <td>Mozilla/5.0 (Windows NT 6.0; rv:34.0) Gecko/20...</td>\n",
       "    </tr>\n",
       "    <tr>\n",
       "      <th>6</th>\n",
       "      <td>95.29.198.15</td>\n",
       "      <td>2015-12-12 18:32:10+01:00</td>\n",
       "      <td>GET /administrator/ HTTP/1.1</td>\n",
       "      <td>200</td>\n",
       "      <td>4263</td>\n",
       "      <td>NaN</td>\n",
       "      <td>Mozilla/5.0 (Windows NT 6.0; rv:34.0) Gecko/20...</td>\n",
       "    </tr>\n",
       "    <tr>\n",
       "      <th>7</th>\n",
       "      <td>95.29.198.15</td>\n",
       "      <td>2015-12-12 18:32:11+01:00</td>\n",
       "      <td>POST /administrator/index.php HTTP/1.1</td>\n",
       "      <td>200</td>\n",
       "      <td>4494</td>\n",
       "      <td>http://almhuette-raith.at/administrator/</td>\n",
       "      <td>Mozilla/5.0 (Windows NT 6.0; rv:34.0) Gecko/20...</td>\n",
       "    </tr>\n",
       "    <tr>\n",
       "      <th>8</th>\n",
       "      <td>109.184.11.34</td>\n",
       "      <td>2015-12-12 18:32:56+01:00</td>\n",
       "      <td>GET /administrator/ HTTP/1.1</td>\n",
       "      <td>200</td>\n",
       "      <td>4263</td>\n",
       "      <td>NaN</td>\n",
       "      <td>Mozilla/5.0 (Windows NT 6.0; rv:34.0) Gecko/20...</td>\n",
       "    </tr>\n",
       "    <tr>\n",
       "      <th>9</th>\n",
       "      <td>109.184.11.34</td>\n",
       "      <td>2015-12-12 18:32:56+01:00</td>\n",
       "      <td>POST /administrator/index.php HTTP/1.1</td>\n",
       "      <td>200</td>\n",
       "      <td>4494</td>\n",
       "      <td>http://almhuette-raith.at/administrator/</td>\n",
       "      <td>Mozilla/5.0 (Windows NT 6.0; rv:34.0) Gecko/20...</td>\n",
       "    </tr>\n",
       "  </tbody>\n",
       "</table>\n",
       "</div>"
      ],
      "text/plain": [
       "                ip                       time  \\\n",
       "0  109.169.248.247  2015-12-12 18:25:11+01:00   \n",
       "1  109.169.248.247  2015-12-12 18:25:11+01:00   \n",
       "2      46.72.177.4  2015-12-12 18:31:08+01:00   \n",
       "3      46.72.177.4  2015-12-12 18:31:08+01:00   \n",
       "4   83.167.113.100  2015-12-12 18:31:25+01:00   \n",
       "5   83.167.113.100  2015-12-12 18:31:25+01:00   \n",
       "6     95.29.198.15  2015-12-12 18:32:10+01:00   \n",
       "7     95.29.198.15  2015-12-12 18:32:11+01:00   \n",
       "8    109.184.11.34  2015-12-12 18:32:56+01:00   \n",
       "9    109.184.11.34  2015-12-12 18:32:56+01:00   \n",
       "\n",
       "                                  request  status  size  \\\n",
       "0            GET /administrator/ HTTP/1.1     200  4263   \n",
       "1  POST /administrator/index.php HTTP/1.1     200  4494   \n",
       "2            GET /administrator/ HTTP/1.1     200  4263   \n",
       "3  POST /administrator/index.php HTTP/1.1     200  4494   \n",
       "4            GET /administrator/ HTTP/1.1     200  4263   \n",
       "5  POST /administrator/index.php HTTP/1.1     200  4494   \n",
       "6            GET /administrator/ HTTP/1.1     200  4263   \n",
       "7  POST /administrator/index.php HTTP/1.1     200  4494   \n",
       "8            GET /administrator/ HTTP/1.1     200  4263   \n",
       "9  POST /administrator/index.php HTTP/1.1     200  4494   \n",
       "\n",
       "                                    referer  \\\n",
       "0                                       NaN   \n",
       "1  http://almhuette-raith.at/administrator/   \n",
       "2                                       NaN   \n",
       "3  http://almhuette-raith.at/administrator/   \n",
       "4                                       NaN   \n",
       "5  http://almhuette-raith.at/administrator/   \n",
       "6                                       NaN   \n",
       "7  http://almhuette-raith.at/administrator/   \n",
       "8                                       NaN   \n",
       "9  http://almhuette-raith.at/administrator/   \n",
       "\n",
       "                                          user_agent  \n",
       "0  Mozilla/5.0 (Windows NT 6.0; rv:34.0) Gecko/20...  \n",
       "1  Mozilla/5.0 (Windows NT 6.0; rv:34.0) Gecko/20...  \n",
       "2  Mozilla/5.0 (Windows NT 6.0; rv:34.0) Gecko/20...  \n",
       "3  Mozilla/5.0 (Windows NT 6.0; rv:34.0) Gecko/20...  \n",
       "4  Mozilla/5.0 (Windows NT 6.0; rv:34.0) Gecko/20...  \n",
       "5  Mozilla/5.0 (Windows NT 6.0; rv:34.0) Gecko/20...  \n",
       "6  Mozilla/5.0 (Windows NT 6.0; rv:34.0) Gecko/20...  \n",
       "7  Mozilla/5.0 (Windows NT 6.0; rv:34.0) Gecko/20...  \n",
       "8  Mozilla/5.0 (Windows NT 6.0; rv:34.0) Gecko/20...  \n",
       "9  Mozilla/5.0 (Windows NT 6.0; rv:34.0) Gecko/20...  "
      ]
     },
     "execution_count": 41,
     "metadata": {},
     "output_type": "execute_result"
    }
   ],
   "source": [
    "# Visualización de  las columnas y filas del conjunto de datos\n",
    "X_test.head(10)"
   ]
  },
  {
   "cell_type": "code",
   "execution_count": 15,
   "metadata": {},
   "outputs": [
    {
     "name": "stdout",
     "output_type": "stream",
     "text": [
      "<class 'pandas.core.frame.DataFrame'>\n",
      "RangeIndex: 1000000 entries, 0 to 999999\n",
      "Data columns (total 7 columns):\n",
      "ip            1000000 non-null object\n",
      "time          1000000 non-null object\n",
      "request       1000000 non-null object\n",
      "status        1000000 non-null int64\n",
      "size          994033 non-null object\n",
      "referer       461900 non-null object\n",
      "user_agent    658284 non-null object\n",
      "dtypes: int64(1), object(6)\n",
      "memory usage: 53.4+ MB\n"
     ]
    }
   ],
   "source": [
    "# Visualización de la información del conjunto de datos\n",
    "X_test.info()"
   ]
  },
  {
   "cell_type": "code",
   "execution_count": 26,
   "metadata": {},
   "outputs": [
    {
     "data": {
      "text/plain": [
       "200    898829\n",
       "404     71998\n",
       "206     21790\n",
       "304      5962\n",
       "301       548\n",
       "500       463\n",
       "303       226\n",
       "501       103\n",
       "403        32\n",
       "405        28\n",
       "412        16\n",
       "400         5\n",
       "Name: status, dtype: int64"
      ]
     },
     "execution_count": 26,
     "metadata": {},
     "output_type": "execute_result"
    }
   ],
   "source": [
    "# Número de valores distintos que existen para la columnas categorica 'status'\n",
    "X_test['status'].value_counts()"
   ]
  },
  {
   "cell_type": "code",
   "execution_count": 27,
   "metadata": {},
   "outputs": [
    {
     "data": {
      "text/plain": [
       "<matplotlib.axes._subplots.AxesSubplot at 0x11a1070f0>"
      ]
     },
     "execution_count": 27,
     "metadata": {},
     "output_type": "execute_result"
    },
    {
     "data": {
      "image/png": "[encoded data removed]",
      "text/plain": [
       "<Figure size 432x288 with 1 Axes>"
      ]
     },
     "metadata": {
      "needs_background": "light"
     },
     "output_type": "display_data"
    }
   ],
   "source": [
    "# Visualización del número de valores distintos que existen para la columnas categorica 'status'\n",
    "%matplotlib inline\n",
    "\n",
    "X_train['status'].value_counts().plot(kind='bar')"
   ]
  },
  {
   "cell_type": "code",
   "execution_count": 32,
   "metadata": {},
   "outputs": [
    {
     "data": {
      "text/plain": [
       "198.50.156.189     134289\n",
       "149.56.83.40        78176\n",
       "205.167.170.15      26606\n",
       "158.69.5.181        25590\n",
       "134.249.53.185      14279\n",
       "178.159.37.81       13156\n",
       "192.227.172.158     10702\n",
       "195.154.216.79       8888\n",
       "158.64.79.7          8712\n",
       "158.64.79.8          8486\n",
       "Name: ip, dtype: int64"
      ]
     },
     "execution_count": 32,
     "metadata": {},
     "output_type": "execute_result"
    }
   ],
   "source": [
    "# Número de valores distintos que existen para la columna categorica 'ip'\n",
    "X_train['ip'].value_counts().head(10)"
   ]
  },
  {
   "cell_type": "code",
   "execution_count": 33,
   "metadata": {},
   "outputs": [
    {
     "data": {
      "text/plain": [
       "POST /administrator/index.php HTTP/1.1                            353981\n",
       "GET /administrator/ HTTP/1.1                                       43738\n",
       "GET /apache-log/access.log HTTP/1.0                                36779\n",
       "GET /apache-log/access.log HTTP/1.1                                27004\n",
       "GET / HTTP/1.1                                                     16478\n",
       "GET /templates/_system/css/general.css HTTP/1.1                    15231\n",
       "GET /administrator/index.php HTTP/1.1                              12417\n",
       "GET http://almhuette-raith.at/administrator/index.php HTTP/1.1      9536\n",
       "GET /robots.txt HTTP/1.1                                            7575\n",
       "POST /administrator/index.php HTTP/1.0                              7366\n",
       "Name: request, dtype: int64"
      ]
     },
     "execution_count": 33,
     "metadata": {},
     "output_type": "execute_result"
    }
   ],
   "source": [
    "# Visualización del número de valores distintos que existen para la columnas categorica 'protocol_type'\n",
    "X_train['request'].value_counts().head(10)"
   ]
  },
  {
   "cell_type": "code",
   "execution_count": 35,
   "metadata": {},
   "outputs": [
    {
     "data": {
      "text/plain": [
       "4498     261508\n",
       "4494      84819\n",
       "4263      69140\n",
       "239       16047\n",
       "10479     15209\n",
       "14032     13426\n",
       "304        8252\n",
       "4481       7282\n",
       "4250       7075\n",
       "217        6471\n",
       "4267       5706\n",
       "218        5621\n",
       "11383      5149\n",
       "4238       4766\n",
       "88161      4017\n",
       "62918      3862\n",
       "10004      3860\n",
       "4890       3786\n",
       "74434      3778\n",
       "33472      3765\n",
       "Name: size, dtype: int64"
      ]
     },
     "execution_count": 35,
     "metadata": {},
     "output_type": "execute_result"
    }
   ],
   "source": [
    "# Visualización del número de valores distintos que existen para la columnas categorica 'protocol_type'\n",
    "X_train['size'].value_counts().head(20)"
   ]
  },
  {
   "cell_type": "code",
   "execution_count": 36,
   "metadata": {},
   "outputs": [
    {
     "data": {
      "text/plain": [
       "http://www.almhuette-raith.at/                                                                                                                                                                                                                                                                                                                                                                                                                                                                                                                                                                                                                                                                                                                                                                                                                         74441\n",
       "http://almhuette-raith.at/administrator/                                                                                                                                                                                                                                                                                                                                                                                                                                                                                                                                                                                                                                                                                                                                                                                                               44310\n",
       "http://www.almhuette-raith.at/index.php?option=com_phocagallery&view=category&id=1&Itemid=53                                                                                                                                                                                                                                                                                                                                                                                                                                                                                                                                                                                                                                                                                                                                                           43936\n",
       "http://almhuette-raith.at/administrator/index.php                                                                                                                                                                                                                                                                                                                                                                                                                                                                                                                                                                                                                                                                                                                                                                                                      37333\n",
       "http://almhuette-raith.at/administrator/index.php?option=com_login                                                                                                                                                                                                                                                                                                                                                                                                                                                                                                                                                                                                                                                                                                                                                                                     18649\n",
       "http://www.almhuette-raith.at/apache-log/                                                                                                                                                                                                                                                                                                                                                                                                                                                                                                                                                                                                                                                                                                                                                                                                              12553\n",
       "http://www.almhuette-raith.at/administrator/index.php?option=com_login                                                                                                                                                                                                                                                                                                                                                                                                                                                                                                                                                                                                                                                                                                                                                                                 11889\n",
       "http://www.almhuette-raith.at/index.php?option=com_phocagallery&view=category&id=4:ferienwohnung2&Itemid=53                                                                                                                                                                                                                                                                                                                                                                                                                                                                                                                                                                                                                                                                                                                                             8150\n",
       "http://almhuette-raith.at/                                                                                                                                                                                                                                                                                                                                                                                                                                                                                                                                                                                                                                                                                                                                                                                                                              7175\n",
       "http://www.almhuette-raith.at/index.php?option=com_content&view=article&id=49&Itemid=55                                                                                                                                                                                                                                                                                                                                                                                                                                                                                                                                                                                                                                                                                                                                                                 6009\n",
       "http://www.almhuette-raith.at/index.php?option=com_content&view=frontpage                                                                                                                                                                                                                                                                                                                                                                                                                                                                                                                                                                                                                                                                                                                                                                               5499\n",
       "http://www.almhuette-raith.at/index.php?option=com_content&view=article&id=50&Itemid=56                                                                                                                                                                                                                                                                                                                                                                                                                                                                                                                                                                                                                                                                                                                                                                 4979\n",
       "http://www.almhuette-raith.at/templates/jp_hotel/css/template.css                                                                                                                                                                                                                                                                                                                                                                                                                                                                                                                                                                                                                                                                                                                                                                                       4242\n",
       "http://www.almhuette-raith.at/components/com_phocagallery/assets/js/shadowbox/src/skin/classic/skin.css                                                                                                                                                                                                                                                                                                                                                                                                                                                                                                                                                                                                                                                                                                                                                 4131\n",
       "http://www.almhuette-raith.at/index.php?option=com_phocagallery&view=category&id=2:winterfotos&Itemid=53                                                                                                                                                                                                                                                                                                                                                                                                                                                                                                                                                                                                                                                                                                                                                3902\n",
       "http://www.almhuette-raith.at/index.php?option=com_content&view=article&id=46&Itemid=54                                                                                                                                                                                                                                                                                                                                                                                                                                                                                                                                                                                                                                                                                                                                                                 3315\n",
       "http://almhuette-raith.at/wp-login.php                                                                                                                                                                                                                                                                                                                                                                                                                                                                                                                                                                                                                                                                                                                                                                                                                  2465\n",
       "http://www.almhuette-raith.at/index.php?option=com_phocagallery&view=category&id=1:almhuette-raith&Itemid=53                                                                                                                                                                                                                                                                                                                                                                                                                                                                                                                                                                                                                                                                                                                                            2192\n",
       "http://site.ru                                                                                                                                                                                                                                                                                                                                                                                                                                                                                                                                                                                                                                                                                                                                                                                                                                          2052\n",
       "http://www.almhuette-raith.at/modules/mod_bowslideshow/tmpl/css/bowslideshow.css                                                                                                                                                                                                                                                                                                                                                                                                                                                                                                                                                                                                                                                                                                                                                                        1563\n",
       "https://gist.github.com/                                                                                                                                                                                                                                                                                                                                                                                                                                                                                                                                                                                                                                                                                                                                                                                                                                1479\n",
       "http://www.almhuette-raith.at/index.php?option=com_phocagallery&view=category&id=1&Itemid=53&limitstart=20                                                                                                                                                                                                                                                                                                                                                                                                                                                                                                                                                                                                                                                                                                                                              1452\n",
       "almhuette-raith.at                                                                                                                                                                                                                                                                                                                                                                                                                                                                                                                                                                                                                                                                                                                                                                                                                                      1420\n",
       "http://www.almhuette-raith.at/apache-log/access.log                                                                                                                                                                                                                                                                                                                                                                                                                                                                                                                                                                                                                                                                                                                                                                                                     1164\n",
       "http://ALMHUETTE-RAITH.AT/administrator/index.php?option=com_login                                                                                                                                                                                                                                                                                                                                                                                                                                                                                                                                                                                                                                                                                                                                                                                      1144\n",
       "https://search.yahoo.com/search=almhuette-raith.at?p=almhuette-raith.at                                                                                                                                                                                                                                                                                                                                                                                                                                                                                                                                                                                                                                                                                                                                                                                 1084\n",
       "http://almhuette-raith.at/index.php?option=com_phocagallery&view=category&id=1&Itemid=53                                                                                                                                                                                                                                                                                                                                                                                                                                                                                                                                                                                                                                                                                                                                                                 777\n",
       "http://www.almhuette-raith.at/apache-log                                                                                                                                                                                                                                                                                                                                                                                                                                                                                                                                                                                                                                                                                                                                                                                                                 714\n",
       "http://www.almenland.at/almhuette-raith.html                                                                                                                                                                                                                                                                                                                                                                                                                                                                                                                                                                                                                                                                                                                                                                                                             632\n",
       "http://www.almhuette-raith.at/index.php                                                                                                                                                                                                                                                                                                                                                                                                                                                                                                                                                                                                                                                                                                                                                                                                                  482\n",
       "                                                                                                                                                                                                                                                                                                                                                                                                                                                                                                                                                                                                                                                                                                                                                                                                                                                       ...  \n",
       "http://almhuette-raith.at/components/com_users/views/remind/tmpl/backup.php                                                                                                                                                                                                                                                                                                                                                                                                                                                                                                                                                                                                                                                                                                                                                                                1\n",
       "http://almhuette-raith.at/modules/mod_banners/dispacher.php                                                                                                                                                                                                                                                                                                                                                                                                                                                                                                                                                                                                                                                                                                                                                                                                1\n",
       "http://www.google.at/url?sa=t&rct=j&q=&esrc=s&source=web&cd=1&ved=0ahUKEwjwjKa3v8DWAhWIfhoKHWoMDkEQFggnMAA&url=http%3A%2F%2Fwww.almhuette-raith.at%2F&usg=AFQjCNFknTsT6h_Cy-kvFzQJCveP-ofFkg                                                                                                                                                                                                                                                                                                                                                                                                                                                                                                                                                                                                                                                               1\n",
       "http://almhuette-raith.at/plugins/dpcalendar/dpcalendar_rsevents/language/de-de/opts.php                                                                                                                                                                                                                                                                                                                                                                                                                                                                                                                                                                                                                                                                                                                                                                   1\n",
       "http://prmb.mobi/acquistare-plan-b/                                                                                                                                                                                                                                                                                                                                                                                                                                                                                                                                                                                                                                                                                                                                                                                                                        1\n",
       "http://www.almhuette-raith.at/index.php?option=com_contenthistory&view=history&list[ordering]=&item_id=75&type_id=1&list[select]=(ExtractValue(1,(select%20concat_ws(0x3a,user(),version(),database()))))                                                                                                                                                                                                                                                                                                                                                                                                                                                                                                                                                                                                                                                  1\n",
       "http://almhuette-raith.at/modules/mod_backup2/mod_backup2.php.suspected                                                                                                                                                                                                                                                                                                                                                                                                                                                                                                                                                                                                                                                                                                                                                                                    1\n",
       "https://www.google.ro                                                                                                                                                                                                                                                                                                                                                                                                                                                                                                                                                                                                                                                                                                                                                                                                                                      1\n",
       "http://24psp.ru/forum/viewtopic.php?pid=5493#p5493                                                                                                                                                                                                                                                                                                                                                                                                                                                                                                                                                                                                                                                                                                                                                                                                         1\n",
       "http://acquistare-somacarisoprodol.webovky.cz/                                                                                                                                                                                                                                                                                                                                                                                                                                                                                                                                                                                                                                                                                                                                                                                                             1\n",
       "http://www.google.at/url?sa=t&rct=j&q=&esrc=s&source=web&cd=2&ved=0ahUKEwithuSx77fSAhVEVxQKHXRPD00QFgggMAE&url=http%3A%2F%2Fwww.almhuette-raith.at%2Findex.php%3Foption%3Dcom_content%26view%3Dfrontpage&usg=AFQjCNHmdDc9uxVnwM5pbDmqNAmGK9cXKw&bvm=bv.148441817,d.bGg                                                                                                                                                                                                                                                                                                                                                                                                                                                                                                                                                                                     1\n",
       "http://www.google.com/url?sa=t&rct=j&q=&esrc=s&source=web&cd=1&cad=rja&uact=8&ved=0ahUKEwjMj8Xr9e3YAhXpDcAKHUvIBlAQFggpMAA&url=http%3A%2F%2Fwww.almhuette-raith.at%2Fapache-log%2Faccess.log&usg=AOvVaw0_tVRNSM0UReh_GTNuFHUz                                                                                                                                                                                                                                                                                                                                                                                                                                                                                                                                                                                                                              1\n",
       "http://almhuette-raith.at/templates/atomic/css/blueprint/plugins/sys.php                                                                                                                                                                                                                                                                                                                                                                                                                                                                                                                                                                                                                                                                                                                                                                                   1\n",
       "http://almhuette-raith.at/templates/view/html/layouts/joomla/content/default.php?compact                                                                                                                                                                                                                                                                                                                                                                                                                                                                                                                                                                                                                                                                                                                                                                   1\n",
       "http://pravoslavnue.ru/Carusel/blog/6845/                                                                                                                                                                                                                                                                                                                                                                                                                                                                                                                                                                                                                                                                                                                                                                                                                  1\n",
       "http://almhuette-raith.at/uploadify/uploadify.php?folder=/                                                                                                                                                                                                                                                                                                                                                                                                                                                                                                                                                                                                                                                                                                                                                                                                 1\n",
       "http://almhuette-raith.at/templates/secure.php                                                                                                                                                                                                                                                                                                                                                                                                                                                                                                                                                                                                                                                                                                                                                                                                             1\n",
       "http://yandex.ru/clck/jsredir?from=yandex.ru%3Bsearch%3Bweb%3B%3B&text=&etext=1172.EbamEhV5eJ5oQ75E6iwoTMzYvArxfD0uBkCM1Mn1mYnpfkXrK0i7sLq-VL8t0X-0.c058e47a8f6fc5ef68edbdde738983949f599212&uuid=&state=_BLhILn4SxNIvvL0W45KSic66uCIg23qh8iRG98qeIXmeppkgUc0YGHEttDsYq_w3pSJtejupWg&data=UlNrNmk5WktYejR0eWJFYk1LdmtxdmdoOGdNQXZLQmxCaXIwaW9zVUhZbjRFSlRPdlY0VVZLUENTOFJJWjJlR2FrazNad0dNcjY4Y0JLck15aHVBZWRNWjdLUzZ4anFzTzF3WVVNRC1LdUE&b64e=2&sign=08ea8e1789ed2f9c0a0de238011309f2&keyno=0&cst=AiuY0DBWFJ7IXge4WdYJQXbYQp9t5VF6oDmPBWEOOf7sLQD4m9ELLUZ9MinhSUBl6o2SgMkEObPGV0XG9mELngYcn9pSzcP6_iki7hloLoBsQzcpHJ-QILuM4N1wWKh-G_jUzH__YYZuOPEt1TJngg&ref=orjY4mGPRjk5boDnW0uvlrrd71vZw9kp5uQozpMtKCXl57D8DglsoHSXcmsqvGRctoh5psL-JzMtaoJke5sB0UfGPqKm0UKv_4ikWuCpLYMlQ2YpdFzJ86P5kyG_A1WK&l10n=ru&cts=1473370550214&mc=6.13993917754                  1\n",
       "http://almhuette-raith.at/manage/fckeditor/editor/filemanager/connectors/uploadtest.html                                                                                                                                                                                                                                                                                                                                                                                                                                                                                                                                                                                                                                                                                                                                                                   1\n",
       "http://almhuette-raith.at/media/plg_system_highlight/wp-xmlrpc.php                                                                                                                                                                                                                                                                                                                                                                                                                                                                                                                                                                                                                                                                                                                                                                                         1\n",
       "http://almhuette-raith.at/wp-content/themes/u-design/scripts/admin/uploadify/uploadify.css                                                                                                                                                                                                                                                                                                                                                                                                                                                                                                                                                                                                                                                                                                                                                                 1\n",
       "http://www.google.at/url?sa=t&rct=j&q=&esrc=s&source=web&cd=8&ved=0ahUKEwjxtc-8wtbYAhWPJSwKHcTjDiYQFghZMAc&url=http%3A%2F%2Fwww.almhuette-raith.at%2Findex.php%3Foption%3Dcom_content%26view%3Dfrontpage&usg=AOvVaw3zqrX6MZdy5z14aGgNpPCF                                                                                                                                                                                                                                                                                                                                                                                                                                                                                                                                                                                                                  1\n",
       "http://www.almhuette-raith.at/RGDHG                                                                                                                                                                                                                                                                                                                                                                                                                                                                                                                                                                                                                                                                                                                                                                                                                        1\n",
       "http://almhuette-raith.at/components/com_mailto/helpers/contact.php                                                                                                                                                                                                                                                                                                                                                                                                                                                                                                                                                                                                                                                                                                                                                                                        1\n",
       "http://almhuette-raith.at/modules/mod_feed/san1.php                                                                                                                                                                                                                                                                                                                                                                                                                                                                                                                                                                                                                                                                                                                                                                                                        1\n",
       "http://almhuette-raith.at/components/com_weblinks/views/weblink/tmpl/xml_rpc.class.php.                                                                                                                                                                                                                                                                                                                                                                                                                                                                                                                                                                                                                                                                                                                                                                    1\n",
       "http://almhuette-raith.at/cgi-bin/sys.php                                                                                                                                                                                                                                                                                                                                                                                                                                                                                                                                                                                                                                                                                                                                                                                                                  1\n",
       "http://almhuette-raith.at/templates/beez3/css/Marvins.php                                                                                                                                                                                                                                                                                                                                                                                                                                                                                                                                                                                                                                                                                                                                                                                                  1\n",
       "http://yandex.ru/clck/jsredir?from=yandex.ru%3Bsearch%3Bweb%3B%3B&text=&etext=1144.MFnK9OrAuwi9IU7lmqKj50VuDLbge-0DSDgq7qCPtgDUuTy3khbrTepBlJU-6Y-N.754612f795b7e7e51ee945db3c6b07f2aaf29a50&uuid=&state=_BLhILn4SxNIvvL0W45KSic66uCIg23qh8iRG98qeIXmeppkgUc0YMkOSpatjLUqgxH-XWLwn-g&data=UlNrNmk5WktYejR0eWJFYk1LdmtxdmdoOGdNQXZLQmxCaXIwaW9zVUhZbjRFSlRPdlY0VVZLUENTOFJJWjJlRzN5Nk9LWTVhNy1nVmgtNUJvcnA1YnBURi13VzhnZVFIbi1yWEpJZjFmQ2s&b64e=2&sign=eece0ed177d36f3648e0914824de5ac4&keyno=0&cst=AiuY0DBWFJ7IXge4WdYJQYuwSQLovbTTDPKbz8WKFRUVRSjfB7A7u6QljSOSsjkhiGUm7C3ut_p9BZOS4Ea3VMQ9vxW8QbLW4OMmN7Gl8qntfr-1Yx3vvO20-2YQXx5zB2zTXkkWm5Ixf2sei2ZooJkhv7yALL6e&ref=orjY4mGPRjk5boDnW0uvlrrd71vZw9kp5uQozpMtKCWAB4NbWhozjuADmiEBCUoV8pmFQcEndDGzmQYPm25SrJ6P0N3_O6wrSIIhBalpOcrFYMM1eymS3a5MJ_ZHuaC6&l10n=ru&cts=1470884985975&mc=6.64250923713        1\n",
       "http://almhuette-raith.at/js/fckeditor/editor/filemanager/connectors/uploadtest.html                                                                                                                                                                                                                                                                                                                                                                                                                                                                                                                                                                                                                                                                                                                                                                       1\n",
       "Name: referer, Length: 10305, dtype: int64"
      ]
     },
     "execution_count": 36,
     "metadata": {},
     "output_type": "execute_result"
    }
   ],
   "source": [
    "# Visualización del número de valores distintos que existen para la columnas categorica 'protocol_type'\n",
    "X_train['referer'].value_counts()"
   ]
  },
  {
   "cell_type": "code",
   "execution_count": null,
   "metadata": {},
   "outputs": [],
   "source": [
    "# Visualización del número de valores distintos que existen para la columnas categorica 'protocol_type'\n",
    "X_train['user_agent'].value_counts().plot(kind='bar')"
   ]
  },
  {
   "cell_type": "code",
   "execution_count": null,
   "metadata": {},
   "outputs": [],
   "source": [
    "# Número de valores distintos que existen para la columna categorica 'service'\n",
    "df2['service'].value_counts()"
   ]
  },
  {
   "cell_type": "code",
   "execution_count": null,
   "metadata": {},
   "outputs": [],
   "source": [
    "# Número de valores distintos que existen para la columna categorica 'service'\n",
    "%matplotlib inline\n",
    "\n",
    "df2['service'].value_counts().plot(kind='bar', figsize=(20, 5))"
   ]
  },
  {
   "cell_type": "code",
   "execution_count": null,
   "metadata": {},
   "outputs": [],
   "source": [
    "# Número de valores distintos que existen para la columna categorica 'flag'\n",
    "df2['flag'].value_counts()"
   ]
  },
  {
   "cell_type": "code",
   "execution_count": null,
   "metadata": {},
   "outputs": [],
   "source": [
    "# Visualización del número de valores distintos que existen para la columna categorica 'flag'\n",
    "%matplotlib inline\n",
    "\n",
    "df2['flag'].value_counts().plot(kind='bar')"
   ]
  },
  {
   "cell_type": "code",
   "execution_count": null,
   "metadata": {},
   "outputs": [],
   "source": [
    "# Número de valores distintos que existen para la columna categorica 'class'\n",
    "df2['Class'].value_counts()"
   ]
  },
  {
   "cell_type": "code",
   "execution_count": null,
   "metadata": {},
   "outputs": [],
   "source": [
    "# Visualización del número de valores distintos que existen para la columna categorica 'flag'\n",
    "%matplotlib inline\n",
    "\n",
    "df2['Class'].value_counts().plot(kind='bar')"
   ]
  },
  {
   "cell_type": "markdown",
   "metadata": {},
   "source": [
    "## 3. Correlaciones entre las características de entrada"
   ]
  },
  {
   "cell_type": "markdown",
   "metadata": {},
   "source": [
    "Calcular las correlaciones entre las características de entrada y la característica de salida puede ayudarnos a diferenciar las características más importantes, así como, a añadir nuevas características.\n",
    "\n",
    "* Se puede calcular el coeficiente de correlación estándar para ver la correlación entre cada par de atributos\n",
    "* El coeficiente de correlación, solo mide **correlaciones lineales**, esto quiere decir que si x va hacia arriba, mediría si y va hacia arriba o hacia abajo.\n",
    "* Hay que intentar buscar correlaciones sobre todo con el atributo objetivo o variable de salida (el que queremeos predecir)"
   ]
  },
  {
   "cell_type": "code",
   "execution_count": null,
   "metadata": {},
   "outputs": [],
   "source": [
    "# Para esta parte, voy a copiar df2 en df2_corr para realizar los tests a partir de este nuevo DataFrame\n",
    "df2_corr = df2.copy()\n",
    "# Uso df2_corr para la codificacion de los valores en Attack = 1; Normal (no ataque) = 0; representados en la nueva columna \"Class_coded\"\n",
    "df2_corr[\"Class_coded\"] = (df2_corr[\"Class\"] != 'normal').astype(int)"
   ]
  },
  {
   "cell_type": "code",
   "execution_count": null,
   "metadata": {},
   "outputs": [],
   "source": [
    "df2_corr.head(15)"
   ]
  },
  {
   "cell_type": "code",
   "execution_count": null,
   "metadata": {},
   "outputs": [],
   "source": [
    "corr_matrix = df2_corr.corr()"
   ]
  },
  {
   "cell_type": "code",
   "execution_count": null,
   "metadata": {},
   "outputs": [],
   "source": [
    "corr_matrix[\"Class_coded\"].sort_values(ascending=False)"
   ]
  },
  {
   "cell_type": "code",
   "execution_count": null,
   "metadata": {},
   "outputs": [],
   "source": [
    "%matplotlib inline\n",
    "import matplotlib.pyplot as plt\n",
    "corr = df2_corr.corr()\n",
    "fig, ax = plt.subplots(figsize=(20, 20))\n",
    "ax.matshow(corr)\n",
    "plt.xticks(range(len(corr.columns)), corr.columns);\n",
    "plt.yticks(range(len(corr.columns)), corr.columns);"
   ]
  },
  {
   "cell_type": "code",
   "execution_count": null,
   "metadata": {},
   "outputs": [],
   "source": [
    "# Uso el Label encoder visto en clase, para asignar valores a las columnas de tipo object que tengo\n",
    "# Esto lo haré en un nuevo DataFrame(4)"
   ]
  },
  {
   "cell_type": "code",
   "execution_count": null,
   "metadata": {},
   "outputs": [],
   "source": [
    "from sklearn.preprocessing import LabelEncoder\n",
    "\n",
    "def encode_features(df, list_features):\n",
    "    label_encoder = LabelEncoder()\n",
    "    for f in list_features:\n",
    "        df[f] = label_encoder.fit_transform(df[f])\n",
    "    return df"
   ]
  },
  {
   "cell_type": "code",
   "execution_count": null,
   "metadata": {},
   "outputs": [],
   "source": [
    "df2_coded = encode_features(df2_corr, [\"service\", \"protocol_type\", \"flag\"])"
   ]
  },
  {
   "cell_type": "code",
   "execution_count": null,
   "metadata": {},
   "outputs": [],
   "source": [
    "df2_coded.head()"
   ]
  },
  {
   "cell_type": "code",
   "execution_count": null,
   "metadata": {},
   "outputs": [],
   "source": [
    "from pandas.plotting import scatter_matrix\n",
    "\n",
    "attributes = [\"Class_coded\", \"protocol_type\", \"service\", \"flag\"]\n",
    "\n",
    "scatter_matrix(df2_coded[attributes], figsize=(12,8))\n",
    "plt.show()"
   ]
  },
  {
   "cell_type": "code",
   "execution_count": null,
   "metadata": {},
   "outputs": [],
   "source": [
    "df2_coded.plot(kind='scatter', x='Class_coded', y='flag', alpha=0.1)\n",
    "plt.show()"
   ]
  },
  {
   "cell_type": "markdown",
   "metadata": {},
   "source": [
    "## 4. Preprocesamiento del conjunto de datos"
   ]
  },
  {
   "cell_type": "markdown",
   "metadata": {},
   "source": [
    "###     4.1. Limpiando el conjunto de datos"
   ]
  },
  {
   "cell_type": "markdown",
   "metadata": {},
   "source": [
    "La mayoria de los algoritmos de Machine Learning no pueden trabajar sobre caracteristicas que contengan valores nulos. Comprueba si el conjunto de datos contine valores nulos, de ser así, aplica alguna de las técnicas que se han visto a lo largo del curso para reemplazarlos:\n",
    "* Eliminar las filas correspondientes\n",
    "* Eliminar el atributo (columna) correspondiente\n",
    "* Rellenarlos con un valor determinado (cero, media ...)"
   ]
  },
  {
   "cell_type": "code",
   "execution_count": null,
   "metadata": {},
   "outputs": [],
   "source": [
    "df2.isna().any()"
   ]
  },
  {
   "cell_type": "markdown",
   "metadata": {},
   "source": [
    "* No hay datos nulos en nuestro Dataframe"
   ]
  },
  {
   "cell_type": "markdown",
   "metadata": {},
   "source": [
    "### 4.2. Transformación de los atributos categóricos"
   ]
  },
  {
   "cell_type": "markdown",
   "metadata": {},
   "source": [
    "Los algoritmos de Machine Learning, por norma general, ingieren datos numéricos. Comprueba si existen valores categóricos en el conjunto de datos y aplica las transoformaciones necesarias para convertirlos a valores numéricos.  \n",
    "**Justifica tu decisión**."
   ]
  },
  {
   "cell_type": "code",
   "execution_count": null,
   "metadata": {},
   "outputs": [],
   "source": [
    "# He usado get_dummies porque tuve problemas para implementar One Hot Encoder, aunque el resultado es el mismo\n",
    "# Las columnas que he dividido a valores numericos eran aquellas formadas por valores categoricos, es decir, aquellas cuyo\n",
    "# tipo era 'object': protocol_type, service, flag y Class\n",
    "df2_coded = pd.get_dummies(df2, columns=['protocol_type', 'service', 'flag', 'Class'])\n",
    "df2_coded.dtypes"
   ]
  },
  {
   "cell_type": "markdown",
   "metadata": {},
   "source": [
    "* Ahora todas las columnas son de tipo numéricos"
   ]
  },
  {
   "cell_type": "markdown",
   "metadata": {},
   "source": [
    "### 4.3. Escalado del conjunto de datos"
   ]
  },
  {
   "cell_type": "markdown",
   "metadata": {},
   "source": [
    "Si los valores del conjunto de datos se encuentran en rangos muy diferentes, es posible que deban aplicarse técnicas de normalización o escalado para que el algoritmo de Machine Learning funcione mejor.  \n",
    "\n",
    "Comprueba si los datos del conjunto de datos poseen valores muy dispares y, si se considera necesario, aplica una de las técnicas de escalado o normalización vista durante el curso. **Justifica tu decisión.**"
   ]
  },
  {
   "cell_type": "code",
   "execution_count": null,
   "metadata": {},
   "outputs": [],
   "source": [
    "from sklearn.preprocessing import RobustScaler\n",
    "\n",
    "# Para el conjunto de entrenamiento\n",
    "scaler = RobustScaler()\n",
    "X_train_scaled = scaler.fit_transform(df2_coded)"
   ]
  },
  {
   "cell_type": "code",
   "execution_count": null,
   "metadata": {},
   "outputs": [],
   "source": [
    "from pandas import DataFrame\n",
    "\n",
    "X_train_scaled = DataFrame(X_train_scaled)\n",
    "X_train_scaled.head(15)"
   ]
  },
  {
   "cell_type": "markdown",
   "metadata": {},
   "source": [
    "* El escalado ha producido un rodendeo de los valores, que ahora pasan a valor 0 o 1 (exactos). esto supone una gran pérdida de información, y por ello **no realizaré el escalado** de datos para este ejercicio concreto."
   ]
  },
  {
   "cell_type": "markdown",
   "metadata": {},
   "source": [
    "## 5. Selección y entrenamiento de los modelos"
   ]
  },
  {
   "cell_type": "markdown",
   "metadata": {},
   "source": [
    "¡En este punto ya hemos realizado todas las transformaciones necesarias sobre los datos para que puedan ser ingeridos por un algoritmo de machine Learning!\n",
    "\n",
    "Recuerda que debes seleccionar al menos dos algoritmos para completar el ejercicio:\n",
    "* Un algoritmo de clasificación basado en aprendizaje supervisado (regresión logística, árbol de decisión, random forest)\n",
    "* Un algoritmo de detección de anomalías (distribución gaussiana, isolation forest)"
   ]
  },
  {
   "cell_type": "markdown",
   "metadata": {},
   "source": [
    "## 5.1. Algoritmo de clasificación elegido: Decision Tree Classifier"
   ]
  },
  {
   "cell_type": "markdown",
   "metadata": {},
   "source": [
    "### 5.1.1. Carga de datos"
   ]
  },
  {
   "cell_type": "code",
   "execution_count": null,
   "metadata": {},
   "outputs": [],
   "source": [
    "import pandas as pd\n",
    "\n",
    "columns = [\"duration\",\"protocol_type\",\"service\",\"flag\",\"src_bytes\",\"dst_bytes\",\"land\",\"wrong_fragment\",\"urgent\",\"hot\",\"num_failed_logins\",\"logged_in\",\"num_compromised\",\"root_shell\",\"su_attempted\",\"num_root\",\"num_file_creations\",\"num_shells\",\"num_access_files\",\"num_outbound_cmds\",\"is_host_login\",\"is_guest_login\",\"count\",\"srv_count\",\"serror_rate\",\"srv_serror_rate\",\"rerror_rate\",\"srv_rerror_rate\",\"same_srv_rate\",\"diff_srv_rate\",\"srv_diff_host_rate\",\"dst_host_count\",\"dst_host_srv_count\",\"dst_host_same_srv_rate\",\"dst_host_diff_srv_rate\",\"dst_host_same_src_port_rate\",\"dst_host_srv_diff_host_rate\",\"dst_host_serror_rate\",\"dst_host_srv_serror_rate\",\"dst_host_rerror_rate\",\"dst_host_srv_rerror_rate\", \"Class\", \"temp\"]\n",
    "\n",
    "# Training data\n",
    "X_train = pd.read_csv(\"NSL-KDD/KDDTrain+.txt\", names=columns)\n",
    "X_train = X_train.drop('temp', axis=1)\n",
    "\n",
    "X_test = pd.read_csv(\"NSL-KDD/KDDTest+.txt\", names=columns)\n",
    "X_test = X_test.drop('temp', axis=1)"
   ]
  },
  {
   "cell_type": "code",
   "execution_count": null,
   "metadata": {},
   "outputs": [],
   "source": [
    "# Divido los Datasets en entrada (X_train, X_test) y salida (Y_train, Y_test) mediante la separación de la columna \"Class\", \n",
    "# que considero el output buscado, puesto que indica si ha habido ataque o no\n",
    "\n",
    "Y_train = pd.DataFrame({'Class' : []})\n",
    "Y_train['Class'] = X_train['Class']\n",
    "X_train = X_train.drop('Class', axis=1)\n",
    "\n",
    "Y_test = pd.DataFrame({'Class' : []})\n",
    "Y_test['Class'] = X_test['Class']\n",
    "X_test = X_test.drop('Class', axis=1)"
   ]
  },
  {
   "cell_type": "code",
   "execution_count": null,
   "metadata": {},
   "outputs": [],
   "source": [
    "from sklearn.model_selection import train_test_split\n",
    "\n",
    "X_test, X_val, Y_test, Y_val = train_test_split(X_test, Y_test, test_size=0.50)"
   ]
  },
  {
   "cell_type": "code",
   "execution_count": null,
   "metadata": {},
   "outputs": [],
   "source": [
    "# Convierto Y_train e Y_test de Series a DataFrames\n",
    "Y_train = pd.DataFrame(Y_train)\n",
    "Y_test = pd.DataFrame(Y_test)"
   ]
  },
  {
   "cell_type": "code",
   "execution_count": null,
   "metadata": {},
   "outputs": [],
   "source": [
    "# Llegados a este punto, voy a codificar los valores de la columna \"Class\" para los dataset de salida (Y's):\n",
    "#    1 si es distinto de 'normal' y 0 si es igual\n",
    "# (Lo podría haber hecho con el Label Encoder de antes, pero lo quise hacer de nuevo. El resultado es similar)\n",
    "\n",
    "# NOTA: Cabe señalar que no podemos usar GET_DUMMIES o ONE_HOT-ENCODER, ya que el numero de columnas del dataset de \n",
    "# entrenamiento y el de test (o validación) puede ser diferente, y dará lugar a un error en la fase de predicción\n",
    "\n",
    "\n",
    "Y_train[\"Class_coded\"] = (Y_train[\"Class\"].astype(str) != 'normal').astype(int)\n",
    "Y_test[\"Class_coded\"] = (Y_test[\"Class\"].astype(str) != 'normal').astype(int)\n",
    "Y_val[\"Class_coded\"] = (Y_val[\"Class\"].astype(str) != 'normal').astype(int)"
   ]
  },
  {
   "cell_type": "code",
   "execution_count": null,
   "metadata": {},
   "outputs": [],
   "source": [
    "from sklearn.preprocessing import LabelEncoder\n",
    "\n",
    "def encode_features(df, list_features):\n",
    "    label_encoder = LabelEncoder()\n",
    "    for f in list_features:\n",
    "        df[f] = label_encoder.fit_transform(df[f])\n",
    "    return df"
   ]
  },
  {
   "cell_type": "code",
   "execution_count": null,
   "metadata": {},
   "outputs": [],
   "source": [
    "Y_train = Y_train.drop('Class', axis=1)\n",
    "Y_test = Y_test.drop('Class', axis=1)\n",
    "Y_val = Y_val.drop('Class', axis=1)"
   ]
  },
  {
   "cell_type": "code",
   "execution_count": null,
   "metadata": {},
   "outputs": [],
   "source": [
    "# Codifico los conjuntos de entrada (X's) con el Label Encoder visto antes\n",
    "X_train = encode_features(X_train, [\"service\", \"protocol_type\", \"flag\"])\n",
    "X_test = encode_features(X_test, [\"service\", \"protocol_type\", \"flag\"])\n",
    "X_val = encode_features(X_val, [\"service\", \"protocol_type\", \"flag\"])"
   ]
  },
  {
   "cell_type": "code",
   "execution_count": null,
   "metadata": {},
   "outputs": [],
   "source": [
    "print (\"X_train: Filas:\", X_train.shape[0], \", columnas:\", X_train.shape[1])\n",
    "print (\"Y_train: Filas:\", Y_train.shape[0], \", columnas:\", Y_train.shape[1])\n",
    "print (\"X_test: Filas:\", X_test.shape[0], \", columnas:\", X_test.shape[1])\n",
    "print (\"Y_test: Filas:\", Y_test.shape[0], \", columnas:\", Y_test.shape[1])\n",
    "print (\"X_val: Filas:\", X_val.shape[0], \", columnas:\", X_val.shape[1])\n",
    "print (\"Y_val: Filas:\", Y_val.shape[0], \", columnas:\", Y_val.shape[1])"
   ]
  },
  {
   "cell_type": "code",
   "execution_count": null,
   "metadata": {},
   "outputs": [],
   "source": [
    "# Entrenamiento del modelo\n",
    "from sklearn.tree import DecisionTreeClassifier\n",
    "\n",
    "clf = DecisionTreeClassifier()\n",
    "clf.fit(X_train, Y_train)"
   ]
  },
  {
   "cell_type": "code",
   "execution_count": null,
   "metadata": {},
   "outputs": [],
   "source": [
    "# Predicción de valores\n",
    "Y_train_pred = clf.predict(X_train)\n",
    "Y_test_pred = clf.predict(X_test)\n",
    "Y_val_pred = clf.predict(X_val)"
   ]
  },
  {
   "cell_type": "code",
   "execution_count": null,
   "metadata": {},
   "outputs": [],
   "source": [
    "from sklearn.metrics import confusion_matrix, recall_score, f1_score, precision_score\n",
    "\n",
    "print(\"\\nEntrenamiento Decision Tree Classifier\")\n",
    "print(confusion_matrix(Y_train, Y_train_pred))\n",
    "print(\"\\nTest Decision Tree Classifier\")\n",
    "print(confusion_matrix(Y_test, Y_test_pred))\n",
    "print(\"\\nValidación Decision Tree Classifier\")\n",
    "print(confusion_matrix(Y_val, Y_val_pred))"
   ]
  },
  {
   "cell_type": "code",
   "execution_count": null,
   "metadata": {},
   "outputs": [],
   "source": [
    "f1_score_dectree_train = f1_score(Y_train_pred, Y_train, average=\"binary\")\n",
    "f1_score_dectree_test = f1_score(Y_test_pred, Y_test, average=\"binary\")\n",
    "f1_score_dectree_val = f1_score(Y_val_pred, Y_val, average=\"binary\")\n",
    "\n",
    "print(\"F1 Score for train set:\", f1_score_dectree_train)\n",
    "print(\"F1 Score for test set:\", f1_score_dectree_test)\n",
    "print(\"F1 Score for validation set:\", f1_score_dectree_val)"
   ]
  },
  {
   "cell_type": "markdown",
   "metadata": {},
   "source": [
    "## 5.2. Algoritmo de detección de anomalías elegido: distribución gaussiana"
   ]
  },
  {
   "cell_type": "markdown",
   "metadata": {},
   "source": [
    "## 5.2.1. Carga de los datos"
   ]
  },
  {
   "cell_type": "code",
   "execution_count": null,
   "metadata": {},
   "outputs": [],
   "source": [
    "import pandas as pd\n",
    "\n",
    "columns = [\"duration\",\"protocol_type\",\"service\",\"flag\",\"src_bytes\",\"dst_bytes\",\"land\",\"wrong_fragment\",\"urgent\",\"hot\",\"num_failed_logins\",\"logged_in\",\"num_compromised\",\"root_shell\",\"su_attempted\",\"num_root\",\"num_file_creations\",\"num_shells\",\"num_access_files\",\"num_outbound_cmds\",\"is_host_login\",\"is_guest_login\",\"count\",\"srv_count\",\"serror_rate\",\"srv_serror_rate\",\"rerror_rate\",\"srv_rerror_rate\",\"same_srv_rate\",\"diff_srv_rate\",\"srv_diff_host_rate\",\"dst_host_count\",\"dst_host_srv_count\",\"dst_host_same_srv_rate\",\"dst_host_diff_srv_rate\",\"dst_host_same_src_port_rate\",\"dst_host_srv_diff_host_rate\",\"dst_host_serror_rate\",\"dst_host_srv_serror_rate\",\"dst_host_rerror_rate\",\"dst_host_srv_rerror_rate\", \"Class\", \"temp\"]\n",
    "\n",
    "# Training data\n",
    "X_train = pd.read_csv(\"NSL-KDD/KDDTrain+.txt\", names=columns)\n",
    "X_train = X_train.drop('temp', axis=1)\n",
    "\n",
    "# Test data\n",
    "X_test = pd.read_csv(\"NSL-KDD/KDDTest+.txt\", names=columns)\n",
    "X_test = X_test.drop('temp', axis=1)"
   ]
  },
  {
   "cell_type": "code",
   "execution_count": null,
   "metadata": {},
   "outputs": [],
   "source": [
    "# División del conjunto de entrenamiento en \"Ataque\" y \"Normal\" (= no ataque)\n",
    "X_train_normal = X_train[X_train['Class'] == 'normal']\n",
    "X_train_attack = X_train[X_train['Class'] != 'normal']\n",
    "\n",
    "# División del conjunto de test en \"Ataque\" y \"Normal\" (= no ataque)\n",
    "X_test_normal = X_test[X_test['Class'] == 'normal']\n",
    "X_test_attack = X_test[X_test['Class'] != 'normal']"
   ]
  },
  {
   "cell_type": "code",
   "execution_count": null,
   "metadata": {},
   "outputs": [],
   "source": [
    "# División del conjunto de entrenamiento \"normal\" (= no ataques) en Entrada (X) y salida (Y)\n",
    "Y_train_normal = X_train_normal['Class']\n",
    "X_train_normal = X_train_normal.drop('Class', axis=1)\n",
    "\n",
    "# División del conjunto de entrenamiento \"ataque\" en Entrada (X) y salida (Y)\n",
    "Y_train_attack = X_train_attack['Class']\n",
    "X_train_attack = X_train_attack.drop('Class', axis=1)\n",
    "\n",
    "# División del conjunto de test \"normal\" (= no ataques) en Entrada (X) y salida (Y)\n",
    "Y_test_normal = X_test_normal['Class']\n",
    "X_test_normal = X_test_normal.drop('Class', axis=1)\n",
    "\n",
    "# División del conjunto de test \"ataque\" en Entrada (X) y salida (Y)\n",
    "Y_test_attack = X_test_attack['Class']\n",
    "X_test_attack = X_test_attack.drop('Class', axis=1)"
   ]
  },
  {
   "cell_type": "code",
   "execution_count": null,
   "metadata": {},
   "outputs": [],
   "source": [
    "# Creación de los conjuntos de validación a partir de la división de los de test (50%-50%)\n",
    "from sklearn.model_selection import train_test_split\n",
    "\n",
    "X_test_normal, X_val_normal, Y_test_normal, Y_val_normal = train_test_split(X_test_normal, Y_test_normal, test_size=0.50)\n",
    "X_test_attack, X_val_attack, Y_test_attack, Y_val_attack = train_test_split(X_test_attack, Y_test_attack, test_size=0.50)"
   ]
  },
  {
   "cell_type": "markdown",
   "metadata": {},
   "source": [
    "### Mezclamos ejemplos legítimos y maliciosos en validación y pruebas"
   ]
  },
  {
   "cell_type": "code",
   "execution_count": null,
   "metadata": {},
   "outputs": [],
   "source": [
    "import pandas as pd\n",
    "\n",
    "# Conjunto de datos de entrenamiento\n",
    "X_train = pd.concat([X_train_normal, X_train_attack], ignore_index=True)\n",
    "Y_train = pd.concat([Y_train_normal, Y_train_attack], ignore_index=True)\n",
    "\n",
    "# Conjunto de datos de pruebas\n",
    "X_test = pd.concat([X_test_normal, X_test_attack], ignore_index=True)\n",
    "Y_test = pd.concat([Y_test_normal, Y_test_attack], ignore_index=True)\n",
    "\n",
    "# Conjunto de datos de validacion\n",
    "X_val = pd.concat([X_val_normal, X_val_attack], ignore_index=True)\n",
    "Y_val = pd.concat([Y_val_normal, Y_val_attack], ignore_index=True)"
   ]
  },
  {
   "cell_type": "code",
   "execution_count": null,
   "metadata": {},
   "outputs": [],
   "source": [
    "# Método de codificación: Label Encoder\n",
    "\n",
    "# Al igual que antes, no podemos usar GET_DUMMIES ni ONE_HOT-ENCODER porque el numero de columnas es diferente para el dataset\n",
    "# de train y test (y validación)\n",
    "\n",
    "from sklearn.preprocessing import LabelEncoder\n",
    "\n",
    "def encode_features(df, list_features):\n",
    "    label_encoder = LabelEncoder()\n",
    "    for f in list_features:\n",
    "        df[f] = label_encoder.fit_transform(df[f])\n",
    "    return df"
   ]
  },
  {
   "cell_type": "code",
   "execution_count": null,
   "metadata": {},
   "outputs": [],
   "source": [
    "# Codificación de todos los conjuntos de datos para los casos en lo que las columnas son de tipo Object\n",
    "Y_train = pd.DataFrame(Y_train)\n",
    "Y_test = pd.DataFrame(Y_test)\n",
    "Y_val = pd.DataFrame(Y_val)\n",
    "\n",
    "Y_train[\"Class_coded\"] = (Y_train[\"Class\"].astype(str) != 'normal').astype(int)\n",
    "Y_test[\"Class_coded\"] = (Y_test[\"Class\"].astype(str) != 'normal').astype(int)\n",
    "Y_val[\"Class_coded\"] = (Y_val[\"Class\"].astype(str) != 'normal').astype(int)\n",
    "\n",
    "Y_train = Y_train.drop('Class', axis=1)\n",
    "Y_test = Y_test.drop('Class', axis=1)\n",
    "Y_val = Y_val.drop('Class', axis=1)\n",
    "\n",
    "X_train = encode_features(X_train, [\"service\", \"protocol_type\", \"flag\"])\n",
    "X_test = encode_features(X_test, [\"service\", \"protocol_type\", \"flag\"])\n",
    "X_val = encode_features(X_val, [\"service\", \"protocol_type\", \"flag\"])\n",
    "\n",
    "X_train_normal = encode_features(X_train_normal, [\"service\", \"protocol_type\", \"flag\"])\n",
    "X_val_normal = encode_features(X_train_normal, [\"service\", \"protocol_type\", \"flag\"])\n",
    "X_test_normal = encode_features(X_train_normal, [\"service\", \"protocol_type\", \"flag\"])\n",
    "\n",
    "X_train_attack = encode_features(X_train_attack, [\"service\", \"protocol_type\", \"flag\"])\n",
    "X_val_attack = encode_features(X_train_attack, [\"service\", \"protocol_type\", \"flag\"])\n",
    "X_test_attack = encode_features(X_train_attack, [\"service\", \"protocol_type\", \"flag\"])"
   ]
  },
  {
   "cell_type": "code",
   "execution_count": null,
   "metadata": {},
   "outputs": [],
   "source": [
    "print (\"X_train: Filas:\", X_train.shape[0], \", columnas:\", X_train.shape[1])\n",
    "print (\"Y_train: Filas:\", Y_train.shape[0], \", columnas:\", Y_train.shape[1])\n",
    "print (\"X_test: Filas:\", X_test.shape[0], \", columnas:\", X_test.shape[1])\n",
    "print (\"Y_test: Filas:\", Y_test.shape[0], \", columnas:\", Y_test.shape[1])\n",
    "print (\"X_val: Filas:\", X_val.shape[0], \", columnas:\", X_val.shape[1])\n",
    "print (\"Y_val: Filas:\", Y_val.shape[0], \", columnas:\", Y_val.shape[1])\n",
    "print (\"X_train_normal: Filas:\", X_train_normal.shape[0], \", columnas:\", X_train_normal.shape[1])\n",
    "print (\"X_test_normal: Filas:\", X_test_normal.shape[0], \", columnas:\", X_test_normal.shape[1])\n",
    "print (\"X_val_normal: Filas:\", X_val_normal.shape[0], \", columnas:\", X_val_normal.shape[1])\n",
    "print (\"X_train_attack: Filas:\", X_train_attack.shape[0], \", columnas:\", X_train_attack.shape[1])\n",
    "print (\"X_test_attack: Filas:\", X_test_attack.shape[0], \", columnas:\", X_test_attack.shape[1])\n",
    "print (\"X_val_attack: Filas:\", X_val_attack.shape[0], \", columnas:\", X_val_attack.shape[1])"
   ]
  },
  {
   "cell_type": "markdown",
   "metadata": {},
   "source": [
    "## Visualizando el conjunto de datos"
   ]
  },
  {
   "cell_type": "code",
   "execution_count": null,
   "metadata": {},
   "outputs": [],
   "source": [
    "X_train_normal.info()"
   ]
  },
  {
   "cell_type": "code",
   "execution_count": null,
   "metadata": {},
   "outputs": [],
   "source": [
    "X_train_normal.head(10)"
   ]
  },
  {
   "cell_type": "code",
   "execution_count": null,
   "metadata": {},
   "outputs": [],
   "source": [
    "import pandas as pd\n",
    "import seaborn as sns\n",
    "import matplotlib.pyplot as plt\n",
    "import matplotlib.gridspec as gridspec\n",
    "%matplotlib inline\n",
    "\n",
    "df = pd.read_csv(\"NSL-KDD/KDDTrain+.txt\", names=columns)\n",
    "df = df.drop('temp', axis=1)\n",
    "\n",
    "df = pd.get_dummies(df, columns=['protocol_type', 'service', 'flag'])\n",
    "\n",
    "features = [f for f in list(df)\n",
    "            if f not in [\"Class\", \"protocol_type\", \"service\", \"flag\"]]\n",
    "\n",
    "plt.figure(figsize=(15,20*8))\n",
    "gs = gridspec.GridSpec(61, 2)    #len(features) = 122\n",
    "gs.update(hspace=0.8)\n",
    "\n",
    "for i, f in enumerate(features):\n",
    "    ax = plt.subplot(gs[i])\n",
    "    sns.distplot(df[f][df[\"Class\"] == 'normal'], color = \"b\")\n",
    "    sns.distplot(df[f][df[\"Class\"] != 'normal'], color = \"r\")\n",
    "    ax.set_xlabel('')\n",
    "    ax.set_title('feature: ' + str(f))\n",
    "\n",
    "plt.show()"
   ]
  },
  {
   "cell_type": "markdown",
   "metadata": {},
   "source": [
    "## 5.2.2. Implementando el algoritmo de distribución Gaussiana"
   ]
  },
  {
   "cell_type": "code",
   "execution_count": null,
   "metadata": {},
   "outputs": [],
   "source": [
    "from scipy.stats import multivariate_normal\n",
    "import numpy as np\n",
    "\n",
    "class GaussianDistribution:\n",
    "    def __init__(self):\n",
    "        self._mu = None\n",
    "        self._sigma = None\n",
    "        \n",
    "    def fit(self, X_train):\n",
    "        self._mu, self._sigma = self._estimateGaussian(X_train)\n",
    "        \n",
    "    def predict(self, X_pred, threshold):\n",
    "        pred = self.multivariateGaussian(X_pred)\n",
    "        return (pred < threshold)\n",
    "\n",
    "    def multivariateGaussian(self, dataset):\n",
    "        pred = multivariate_normal(mean=self._mu, cov=self._sigma, allow_singular=True)\n",
    "        return pred.pdf(dataset)\n",
    "        \n",
    "    def _estimateGaussian(self, dataset):\n",
    "        mu = np.mean(dataset, axis=0)\n",
    "        sigma = np.cov(dataset.T)\n",
    "        return mu, sigma"
   ]
  },
  {
   "cell_type": "code",
   "execution_count": null,
   "metadata": {},
   "outputs": [],
   "source": [
    "from sklearn.metrics import f1_score\n",
    "\n",
    "def search_threshold(Y_val, preds_val):\n",
    "    best_f1 = 0\n",
    "    best_threshold = 0\n",
    "    threshold = 1\n",
    "    for i in range(900):\n",
    "        threshold = threshold / 2\n",
    "        print(\"\\rSearching best threshold {0}%\".format(\n",
    "            int((i + 1) / 900 * 100)), end='')\n",
    "        predictions = (preds_val < threshold)\n",
    "        f1 = f1_score(Y_val, predictions, average='binary')\n",
    "        if f1 > best_f1:\n",
    "            best_f1 = f1\n",
    "            best_threshold = threshold\n",
    "    return (best_f1, best_threshold)"
   ]
  },
  {
   "cell_type": "markdown",
   "metadata": {},
   "source": [
    "## 5.2.3. Creación del modelo"
   ]
  },
  {
   "cell_type": "code",
   "execution_count": null,
   "metadata": {},
   "outputs": [],
   "source": [
    "# Instanciamos el algoritmo de distribución gaussiana, y los entrenamos UNICAMENTE con los valores que no son ataques (='normal')\n",
    "gauss = GaussianDistribution()\n",
    "\n",
    "gauss.fit(X_train_normal)"
   ]
  },
  {
   "cell_type": "markdown",
   "metadata": {},
   "source": [
    "**Realizo la predicción con el subconjunto de validación**"
   ]
  },
  {
   "cell_type": "code",
   "execution_count": null,
   "metadata": {},
   "outputs": [],
   "source": [
    "val_preds = gauss.multivariateGaussian(X_val)"
   ]
  },
  {
   "cell_type": "markdown",
   "metadata": {},
   "source": [
    "**Busco el mejor Threshold**"
   ]
  },
  {
   "cell_type": "code",
   "execution_count": null,
   "metadata": {},
   "outputs": [],
   "source": [
    "best_f1, threshold = search_threshold(Y_val, val_preds)\n",
    "print(\"\\n\\nBest threshold:\", threshold, \"- F1 Score:\", best_f1)"
   ]
  },
  {
   "cell_type": "markdown",
   "metadata": {},
   "source": [
    "**Verifico en Threshold con el conjunto de pruebas**"
   ]
  },
  {
   "cell_type": "code",
   "execution_count": null,
   "metadata": {},
   "outputs": [],
   "source": [
    "test_preds = gauss.predict(X_test, threshold)"
   ]
  },
  {
   "cell_type": "code",
   "execution_count": null,
   "metadata": {},
   "outputs": [],
   "source": [
    "# Matriz de confusión\n",
    "from sklearn.metrics import confusion_matrix, recall_score, f1_score, precision_score\n",
    "\n",
    "print(\"\\nTest Distribución Gaussiana\")\n",
    "print(confusion_matrix(Y_test, test_preds))"
   ]
  },
  {
   "cell_type": "code",
   "execution_count": null,
   "metadata": {},
   "outputs": [],
   "source": [
    "f1_score_gauss_test = f1_score(Y_test, test_preds, average = \"binary\")\n",
    "\n",
    "print(\"F1 Score for test set:\", f1_score_gauss_test)"
   ]
  },
  {
   "cell_type": "markdown",
   "metadata": {},
   "source": [
    "## 5.2.4. Selección de características"
   ]
  },
  {
   "cell_type": "markdown",
   "metadata": {},
   "source": [
    "#### Llegados a este punto, vamos a colver a evaluar el modelo, pero teniendo en cuenta únicamente las features (parámetros de nuestro dataset) en los que realmente se nota una diferencia entre los registros referidos a los ataques y a los normales (no-ataques)"
   ]
  },
  {
   "cell_type": "markdown",
   "metadata": {},
   "source": [
    "#### Haremos la evaluación de la importancia de parámetros usando el algoritmo Random forest"
   ]
  },
  {
   "cell_type": "code",
   "execution_count": null,
   "metadata": {},
   "outputs": [],
   "source": [
    "import pandas as pd\n",
    "\n",
    "columns = [\"duration\",\"protocol_type\",\"service\",\"flag\",\"src_bytes\",\"dst_bytes\",\"land\",\"wrong_fragment\",\"urgent\",\"hot\",\"num_failed_logins\",\"logged_in\",\"num_compromised\",\"root_shell\",\"su_attempted\",\"num_root\",\"num_file_creations\",\"num_shells\",\"num_access_files\",\"num_outbound_cmds\",\"is_host_login\",\"is_guest_login\",\"count\",\"srv_count\",\"serror_rate\",\"srv_serror_rate\",\"rerror_rate\",\"srv_rerror_rate\",\"same_srv_rate\",\"diff_srv_rate\",\"srv_diff_host_rate\",\"dst_host_count\",\"dst_host_srv_count\",\"dst_host_same_srv_rate\",\"dst_host_diff_srv_rate\",\"dst_host_same_src_port_rate\",\"dst_host_srv_diff_host_rate\",\"dst_host_serror_rate\",\"dst_host_srv_serror_rate\",\"dst_host_rerror_rate\",\"dst_host_srv_rerror_rate\", \"Class\", \"temp\"]\n",
    "\n",
    "# Training data\n",
    "X_train_fs = pd.read_csv(\"NSL-KDD/KDDTrain+.txt\", names=columns)\n",
    "X_train_fs = X_train_fs.drop('temp', axis=1)\n",
    "\n",
    "Y_train_fs = pd.DataFrame({'Class' : []})\n",
    "Y_train_fs['Class'] = X_train_fs['Class']\n",
    "X_train_fs = X_train_fs.drop('Class', axis=1)\n",
    "\n",
    "# Test data\n",
    "X_test_fs = pd.read_csv(\"NSL-KDD/KDDTest+.txt\", names=columns)\n",
    "X_test_fs = X_test_fs.drop('temp', axis=1)\n",
    "\n",
    "Y_test_fs = pd.DataFrame({'Class' : []})\n",
    "Y_test_fs['Class'] = X_test_fs['Class']\n",
    "X_test_fs = X_test_fs.drop('Class', axis=1)"
   ]
  },
  {
   "cell_type": "code",
   "execution_count": null,
   "metadata": {},
   "outputs": [],
   "source": [
    "from sklearn.preprocessing import LabelEncoder\n",
    "\n",
    "def encode_features(df, list_features):\n",
    "    label_encoder = LabelEncoder()\n",
    "    for f in list_features:\n",
    "        df[f] = label_encoder.fit_transform(df[f])\n",
    "    return df"
   ]
  },
  {
   "cell_type": "code",
   "execution_count": null,
   "metadata": {},
   "outputs": [],
   "source": [
    "# Codificación de todos los conjuntos de datos para los cosas en lo qe las columnas son de tipo Object\n",
    "X_train_fs = encode_features(X_train_fs, [\"service\", \"protocol_type\", \"flag\"])\n",
    "X_test_fs = encode_features(X_test_fs, [\"service\", \"protocol_type\", \"flag\"])\n",
    "\n",
    "Y_train_fs = pd.DataFrame(Y_train_fs)\n",
    "Y_test_fs = pd.DataFrame(Y_test_fs)\n",
    "\n",
    "Y_train_fs[\"Class_coded\"] = (Y_train_fs[\"Class\"].astype(str) != 'normal').astype(int)\n",
    "Y_test_fs[\"Class_coded\"] = (Y_test_fs[\"Class\"].astype(str) != 'normal').astype(int)\n",
    "\n",
    "Y_train_fs = Y_train_fs.drop('Class', axis=1)\n",
    "Y_test_fs = Y_test_fs.drop('Class', axis=1)"
   ]
  },
  {
   "cell_type": "markdown",
   "metadata": {},
   "source": [
    "#### Entrenamos el algoritmo Random Forest"
   ]
  },
  {
   "cell_type": "code",
   "execution_count": null,
   "metadata": {},
   "outputs": [],
   "source": [
    "from sklearn.ensemble import RandomForestClassifier\n",
    "\n",
    "rnd_clf = RandomForestClassifier(n_estimators=100, n_jobs=-1)\n",
    "rnd_clf.fit(X_train_fs, Y_train_fs)"
   ]
  },
  {
   "cell_type": "code",
   "execution_count": null,
   "metadata": {},
   "outputs": [],
   "source": [
    "# Conjunto de los valores de entrada\n",
    "X_fs = pd.concat([X_train_fs, X_test_fs], ignore_index=True)"
   ]
  },
  {
   "cell_type": "code",
   "execution_count": null,
   "metadata": {},
   "outputs": [],
   "source": [
    "for name, score in zip(list(X_fs), rnd_clf.feature_importances_):\n",
    "    print(name, score)"
   ]
  },
  {
   "cell_type": "code",
   "execution_count": null,
   "metadata": {},
   "outputs": [],
   "source": [
    "for name, score in zip(list(X_fs), rnd_clf.feature_importances_):\n",
    "    if score > 0.02:\n",
    "        print(\"\\\"\" + name + \"\\\"\", end=\",\")"
   ]
  },
  {
   "cell_type": "markdown",
   "metadata": {},
   "source": [
    "## 5.2.5. Reevaluación del modelo"
   ]
  },
  {
   "cell_type": "markdown",
   "metadata": {},
   "source": [
    "#### Vamos a volver a evaluar nuestro modelo de Machine Learning de Distribución Gaussiana, pero ahora con las características más inlfuyentes, vistas en el apartado anterior"
   ]
  },
  {
   "cell_type": "markdown",
   "metadata": {},
   "source": [
    "## 5.2.1. Carga de los datos"
   ]
  },
  {
   "cell_type": "code",
   "execution_count": null,
   "metadata": {},
   "outputs": [],
   "source": [
    "import pandas as pd\n",
    "\n",
    "columns = [\"protocol_type\",\"service\",\"flag\",\"src_bytes\",\"dst_bytes\",\"logged_in\",\"count\",\"srv_serror_rate\",\"same_srv_rate\",\"diff_srv_rate\",\"dst_host_srv_count\",\"dst_host_same_srv_rate\",\"dst_host_diff_srv_rate\",\"dst_host_same_src_port_rate\", \"Class\", \"temp\"]\n",
    "\n",
    "# Training data\n",
    "X_train = pd.read_csv(\"NSL-KDD/KDDTrain+.txt\", names=columns)\n",
    "X_train = X_train.drop('temp', axis=1)\n",
    "\n",
    "# Test data\n",
    "X_test = pd.read_csv(\"NSL-KDD/KDDTest+.txt\", names=columns)\n",
    "X_test = X_test.drop('temp', axis=1)"
   ]
  },
  {
   "cell_type": "code",
   "execution_count": null,
   "metadata": {},
   "outputs": [],
   "source": [
    "X_train_normal = X_train[X_train['Class'] == 'normal']\n",
    "X_train_attack = X_train[X_train['Class'] != 'normal']\n",
    "\n",
    "X_test_normal = X_test[X_test['Class'] == 'normal']\n",
    "X_test_attack = X_test[X_test['Class'] != 'normal']"
   ]
  },
  {
   "cell_type": "code",
   "execution_count": null,
   "metadata": {},
   "outputs": [],
   "source": [
    "# Ejemplos normales - train\n",
    "Y_train_normal = X_train_normal['Class']\n",
    "X_train_normal = X_train_normal.drop('Class', axis=1)\n",
    "\n",
    "# Ejemplos ataques - train\n",
    "Y_train_attack = X_train_attack['Class']\n",
    "X_train_attack = X_train_attack.drop('Class', axis=1)\n",
    "\n",
    "# Ejemplos normales - test\n",
    "Y_test_normal = X_test_normal['Class']\n",
    "X_test_normal = X_test_normal.drop('Class', axis=1)\n",
    "\n",
    "# Ejemplos ataques - test\n",
    "Y_test_attack = X_test_attack['Class']\n",
    "X_test_attack = X_test_attack.drop('Class', axis=1)"
   ]
  },
  {
   "cell_type": "code",
   "execution_count": null,
   "metadata": {},
   "outputs": [],
   "source": [
    "# División del conjunto de test en test y validacion\n",
    "from sklearn.model_selection import train_test_split\n",
    "\n",
    "X_test_normal, X_val_normal, Y_test_normal, Y_val_normal = train_test_split(X_test_normal, Y_test_normal, test_size=0.50)\n",
    "X_test_attack, X_val_attack, Y_test_attack, Y_val_attack = train_test_split(X_test_attack, Y_test_attack, test_size=0.50)"
   ]
  },
  {
   "cell_type": "markdown",
   "metadata": {},
   "source": [
    "### Mezclamos ejemplos legítimos y maliciosos en validación y pruebas"
   ]
  },
  {
   "cell_type": "code",
   "execution_count": null,
   "metadata": {},
   "outputs": [],
   "source": [
    "import pandas as pd\n",
    "\n",
    "# Conjunto de datos de pruebas\n",
    "X_train = pd.concat([X_train_normal, X_train_attack], ignore_index=True)\n",
    "Y_train = pd.concat([Y_train_normal, Y_train_attack], ignore_index=True)\n",
    "\n",
    "# Conjunto de datos de pruebas\n",
    "X_test = pd.concat([X_test_normal, X_test_attack], ignore_index=True)\n",
    "Y_test = pd.concat([Y_test_normal, Y_test_attack], ignore_index=True)\n",
    "\n",
    "# Conjunto de datos de validacion\n",
    "X_val = pd.concat([X_val_normal, X_val_attack], ignore_index=True)\n",
    "Y_val = pd.concat([Y_val_normal, Y_val_attack], ignore_index=True)"
   ]
  },
  {
   "cell_type": "code",
   "execution_count": null,
   "metadata": {},
   "outputs": [],
   "source": [
    "# Como antes, codificamos con LabelEncoder\n",
    "\n",
    "from sklearn.preprocessing import LabelEncoder\n",
    "\n",
    "def encode_features(df, list_features):\n",
    "    label_encoder = LabelEncoder()\n",
    "    for f in list_features:\n",
    "        df[f] = label_encoder.fit_transform(df[f])\n",
    "    return df"
   ]
  },
  {
   "cell_type": "code",
   "execution_count": null,
   "metadata": {},
   "outputs": [],
   "source": [
    "# Codificación de todos los conjuntos de datos para los cosas en lo qe las columnas son de tipo Object\n",
    "X_train = encode_features(X_train, [\"protocol_type\", \"flag\"])\n",
    "X_test = encode_features(X_test, [\"protocol_type\", \"flag\"])\n",
    "X_val = encode_features(X_val, [\"protocol_type\", \"flag\"])\n",
    "\n",
    "Y_train = pd.DataFrame(Y_train)\n",
    "Y_test = pd.DataFrame(Y_test)\n",
    "Y_val = pd.DataFrame(Y_val)\n",
    "\n",
    "Y_train[\"Class_coded\"] = (Y_train[\"Class\"].astype(str) != 'normal').astype(int)\n",
    "Y_test[\"Class_coded\"] = (Y_test[\"Class\"].astype(str) != 'normal').astype(int)\n",
    "Y_val[\"Class_coded\"] = (Y_val[\"Class\"].astype(str) != 'normal').astype(int)\n",
    "\n",
    "Y_train = Y_train.drop('Class', axis=1)\n",
    "Y_test = Y_test.drop('Class', axis=1)\n",
    "Y_val = Y_val.drop('Class', axis=1)\n",
    "\n",
    "X_train_normal = encode_features(X_train_normal, [\"protocol_type\", \"flag\"])\n",
    "X_val_normal = encode_features(X_train_normal, [\"protocol_type\", \"flag\"])\n",
    "X_test_normal = encode_features(X_train_normal, [\"protocol_type\", \"flag\"])\n",
    "\n",
    "X_train_attack = encode_features(X_train_attack, [\"protocol_type\", \"flag\"])\n",
    "X_val_attack = encode_features(X_train_attack, [\"protocol_type\", \"flag\"])\n",
    "X_test_attack = encode_features(X_train_attack, [\"protocol_type\", \"flag\"])"
   ]
  },
  {
   "cell_type": "code",
   "execution_count": null,
   "metadata": {},
   "outputs": [],
   "source": [
    "print (\"X_train: Filas:\", X_train.shape[0], \", columnas:\", X_train.shape[1])\n",
    "print (\"Y_train: Filas:\", Y_train.shape[0], \", columnas:\", Y_train.shape[1])\n",
    "print (\"X_test: Filas:\", X_test.shape[0], \", columnas:\", X_test.shape[1])\n",
    "print (\"Y_test: Filas:\", Y_test.shape[0], \", columnas:\", Y_test.shape[1])\n",
    "print (\"X_val: Filas:\", X_val.shape[0], \", columnas:\", X_val.shape[1])\n",
    "print (\"Y_val: Filas:\", Y_val.shape[0], \", columnas:\", Y_val.shape[1])\n",
    "print (\"X_train_normal: Filas:\", X_train_normal.shape[0], \", columnas:\", X_train_normal.shape[1])\n",
    "print (\"X_test_normal: Filas:\", X_test_normal.shape[0], \", columnas:\", X_test_normal.shape[1])\n",
    "print (\"X_val_normal: Filas:\", X_val_normal.shape[0], \", columnas:\", X_val_normal.shape[1])\n",
    "print (\"X_train_attack: Filas:\", X_train_attack.shape[0], \", columnas:\", X_train_attack.shape[1])\n",
    "print (\"X_test_attack: Filas:\", X_test_attack.shape[0], \", columnas:\", X_test_attack.shape[1])\n",
    "print (\"X_val_attack: Filas:\", X_val_attack.shape[0], \", columnas:\", X_val_attack.shape[1])"
   ]
  },
  {
   "cell_type": "markdown",
   "metadata": {},
   "source": [
    "## Visualizando el conjunto de datos"
   ]
  },
  {
   "cell_type": "code",
   "execution_count": null,
   "metadata": {},
   "outputs": [],
   "source": [
    "X_train_normal.info()"
   ]
  },
  {
   "cell_type": "code",
   "execution_count": null,
   "metadata": {},
   "outputs": [],
   "source": [
    "X_train_normal.head(10)"
   ]
  },
  {
   "cell_type": "code",
   "execution_count": null,
   "metadata": {},
   "outputs": [],
   "source": [
    "import pandas as pd\n",
    "import seaborn as sns\n",
    "import matplotlib.pyplot as plt\n",
    "import matplotlib.gridspec as gridspec\n",
    "%matplotlib inline\n",
    "\n",
    "columns = [\"flag\",\"src_bytes\",\"dst_bytes\",\"same_srv_rate\",\"diff_srv_rate\",\"dst_host_srv_count\",\"dst_host_same_srv_rate\",\"dst_host_diff_srv_rate\", \"Class\", \"temp\"]\n",
    "    \n",
    "df = pd.read_csv(\"NSL-KDD/KDDTrain+.txt\", names=columns)\n",
    "df = df.drop('temp', axis=1)\n",
    "\n",
    "df = encode_features(df, [\"flag\"])\n",
    "\n",
    "features = [f for f in list(df)\n",
    "            if f not in [\"Class\"]]\n",
    "\n",
    "plt.figure(figsize=(15,20*8))\n",
    "gs = gridspec.GridSpec(61, 2)\n",
    "gs.update(hspace=0.8)\n",
    "\n",
    "for i, f in enumerate(features):\n",
    "    ax = plt.subplot(gs[i])\n",
    "    sns.distplot(df[f][df[\"Class\"] == 'normal'], color = \"b\")\n",
    "    sns.distplot(df[f][df[\"Class\"] != 'normal'], color = \"r\")\n",
    "    ax.set_xlabel('')\n",
    "    ax.set_title('feature: ' + str(f))\n",
    "\n",
    "plt.show()"
   ]
  },
  {
   "cell_type": "markdown",
   "metadata": {},
   "source": [
    "## 5.2.2. Implementando el algoritmo de distribución Gaussiana"
   ]
  },
  {
   "cell_type": "code",
   "execution_count": null,
   "metadata": {},
   "outputs": [],
   "source": [
    "from scipy.stats import multivariate_normal\n",
    "import numpy as np\n",
    "\n",
    "class GaussianDistribution:\n",
    "    def __init__(self):\n",
    "        self._mu = None\n",
    "        self._sigma = None\n",
    "        \n",
    "    def fit(self, X_train):\n",
    "        self._mu, self._sigma = self._estimateGaussian(X_train)\n",
    "        \n",
    "    def predict(self, X_pred, threshold):\n",
    "        pred = self.multivariateGaussian(X_pred)\n",
    "        return (pred < threshold)\n",
    "\n",
    "    def multivariateGaussian(self, dataset):\n",
    "        pred = multivariate_normal(mean=self._mu, cov=self._sigma, allow_singular=True)\n",
    "        return pred.pdf(dataset)\n",
    "        \n",
    "    def _estimateGaussian(self, dataset):\n",
    "        mu = np.mean(dataset, axis=0)\n",
    "        sigma = np.cov(dataset.T)\n",
    "        return mu, sigma"
   ]
  },
  {
   "cell_type": "code",
   "execution_count": null,
   "metadata": {},
   "outputs": [],
   "source": [
    "from sklearn.metrics import f1_score\n",
    "\n",
    "def search_threshold(Y_val, preds_val):\n",
    "    best_f1 = 0\n",
    "    best_threshold = 0\n",
    "    threshold = 1\n",
    "    for i in range(900):\n",
    "        threshold = threshold / 2\n",
    "        print(\"\\rSearching best threshold {0}%\".format(\n",
    "            int((i + 1) / 900 * 100)), end='')\n",
    "        predictions = (preds_val < threshold)\n",
    "        f1 = f1_score(Y_val, predictions, average='binary')\n",
    "        if f1 > best_f1:\n",
    "            best_f1 = f1\n",
    "            best_threshold = threshold\n",
    "    return (best_f1, best_threshold)"
   ]
  },
  {
   "cell_type": "markdown",
   "metadata": {},
   "source": [
    "## 5.2.3. Creación del modelo"
   ]
  },
  {
   "cell_type": "code",
   "execution_count": null,
   "metadata": {},
   "outputs": [],
   "source": [
    "# Instanciacimos el algoritmo de distribución gaussiana\n",
    "gauss = GaussianDistribution()\n",
    "\n",
    "gauss.fit(X_train_normal)"
   ]
  },
  {
   "cell_type": "markdown",
   "metadata": {},
   "source": [
    "**Predicción para el conjunto de validación**"
   ]
  },
  {
   "cell_type": "code",
   "execution_count": null,
   "metadata": {},
   "outputs": [],
   "source": [
    "val_preds = gauss.multivariateGaussian(X_val)"
   ]
  },
  {
   "cell_type": "markdown",
   "metadata": {},
   "source": [
    "**Busco el mejor Threshold**"
   ]
  },
  {
   "cell_type": "code",
   "execution_count": null,
   "metadata": {},
   "outputs": [],
   "source": [
    "best_f1, threshold = search_threshold(Y_val, val_preds)\n",
    "print(\"\\n\\nBest threshold:\", threshold, \"- F1 Score:\", best_f1)"
   ]
  },
  {
   "cell_type": "markdown",
   "metadata": {},
   "source": [
    "**Verifico en Threshold con el conjunto de pruebas**"
   ]
  },
  {
   "cell_type": "code",
   "execution_count": null,
   "metadata": {},
   "outputs": [],
   "source": [
    "test_preds = gauss.predict(X_test, threshold)"
   ]
  },
  {
   "cell_type": "code",
   "execution_count": null,
   "metadata": {},
   "outputs": [],
   "source": [
    "# Matriz de confusión\n",
    "from sklearn.metrics import confusion_matrix, recall_score, f1_score, precision_score\n",
    "\n",
    "print(\"\\nTest Distribución Gaussiana\")\n",
    "print(confusion_matrix(Y_test, test_preds))"
   ]
  },
  {
   "cell_type": "code",
   "execution_count": null,
   "metadata": {},
   "outputs": [],
   "source": [
    "f1_score_gauss_test = f1_score(Y_test, test_preds, average = \"binary\")\n",
    "\n",
    "print(\"F1 Score for test set:\", f1_score_gauss_test)"
   ]
  },
  {
   "cell_type": "markdown",
   "metadata": {},
   "source": [
    "## 6. Métricas y comparación de los resultados"
   ]
  },
  {
   "cell_type": "markdown",
   "metadata": {},
   "source": [
    "Selecciona un conjunto de métricas que permitan evaluar de manera adecuada el resultado de los modelos que has entrenado previamente. **Justifica tu decisión**  \n",
    "\n",
    "Compara los resultados obtenidos con ambos modelos y **justifica la razón por la que consideras que un modelo se comporta mejor que el otro.**"
   ]
  },
  {
   "cell_type": "markdown",
   "metadata": {},
   "source": [
    "Fijándonos en el F1-Score (aunque también podríamos hacerlo con las Matrices de Confusión que hemos obtenido), los resultados  han sido:\n",
    "\n",
    "1) **Decision Tree Classifier**\n",
    "   - F1_score for test set: _0.7609065155807365_\n",
    "\n",
    "2) **Distribución Gaussiana**\n",
    "   - F1 Score for test set: _0.7798355490663184_\n",
    "   \n",
    "\n",
    "3) **Distribución Gaussiana +** Elección de características mediante **Random Forest**\n",
    "   - F1 Score for test set: _0.8511604439959637_"
   ]
  },
  {
   "cell_type": "markdown",
   "metadata": {},
   "source": [
    "* Aunque los valores cambian ligeramente cada vez que entrenamos los algoritmos, no suponen una gran diferencia, y por tanto podemos concluir que los mejores resultados se obtienen en el tercer caso (**Distr. Gaussiana + Random Forest**), en el que la aplicación de Random Forest para la elección de los paramétros del dataset puede mejorar en torno al _7,5-9%_ la clasificación correcta de las muestras respecto a Decision Tree Classifier y a la Gaussiana sin elección de características."
   ]
  },
  {
   "cell_type": "code",
   "execution_count": null,
   "metadata": {},
   "outputs": [],
   "source": []
  }
 ],
 "metadata": {
  "kernelspec": {
   "display_name": "Python 3",
   "language": "python",
   "name": "python3"
  },
  "language_info": {
   "codemirror_mode": {
    "name": "ipython",
    "version": 3
   },
   "file_extension": ".py",
   "mimetype": "text/x-python",
   "name": "python",
   "nbconvert_exporter": "python",
   "pygments_lexer": "ipython3",
   "version": "3.7.3"
  }
 },
 "nbformat": 4,
 "nbformat_minor": 2
}
